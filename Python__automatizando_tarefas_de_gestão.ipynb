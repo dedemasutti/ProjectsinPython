{
  "nbformat": 4,
  "nbformat_minor": 0,
  "metadata": {
    "colab": {
      "provenance": [],
      "authorship_tag": "ABX9TyNyiy5ZzMisOhRwkNcTIJ7g",
      "include_colab_link": true
    },
    "kernelspec": {
      "name": "python3",
      "display_name": "Python 3"
    },
    "language_info": {
      "name": "python"
    }
  },
  "cells": [
    {
      "cell_type": "markdown",
      "metadata": {
        "id": "view-in-github",
        "colab_type": "text"
      },
      "source": [
        "<a href=\"https://colab.research.google.com/github/dedemasutti/ProjectsinPython/blob/master/Python__automatizando_tarefas_de_gest%C3%A3o.ipynb\" target=\"_parent\"><img src=\"https://colab.research.google.com/assets/colab-badge.svg\" alt=\"Open In Colab\"/></a>"
      ]
    },
    {
      "cell_type": "code",
      "source": [
        "!pip install openpyxl\n",
        "!pip install matplotlib\n"
      ],
      "metadata": {
        "colab": {
          "base_uri": "https://localhost:8080/"
        },
        "id": "VISuxbCf9tmR",
        "outputId": "9e2eb9ca-218a-4f2d-9bcd-c20103dfc9d7"
      },
      "execution_count": 10,
      "outputs": [
        {
          "output_type": "stream",
          "name": "stdout",
          "text": [
            "Requirement already satisfied: openpyxl in /usr/local/lib/python3.10/dist-packages (3.0.10)\n",
            "Requirement already satisfied: et-xmlfile in /usr/local/lib/python3.10/dist-packages (from openpyxl) (1.1.0)\n",
            "Requirement already satisfied: matplotlib in /usr/local/lib/python3.10/dist-packages (3.7.1)\n",
            "Requirement already satisfied: contourpy>=1.0.1 in /usr/local/lib/python3.10/dist-packages (from matplotlib) (1.1.0)\n",
            "Requirement already satisfied: cycler>=0.10 in /usr/local/lib/python3.10/dist-packages (from matplotlib) (0.11.0)\n",
            "Requirement already satisfied: fonttools>=4.22.0 in /usr/local/lib/python3.10/dist-packages (from matplotlib) (4.41.0)\n",
            "Requirement already satisfied: kiwisolver>=1.0.1 in /usr/local/lib/python3.10/dist-packages (from matplotlib) (1.4.4)\n",
            "Requirement already satisfied: numpy>=1.20 in /usr/local/lib/python3.10/dist-packages (from matplotlib) (1.22.4)\n",
            "Requirement already satisfied: packaging>=20.0 in /usr/local/lib/python3.10/dist-packages (from matplotlib) (23.1)\n",
            "Requirement already satisfied: pillow>=6.2.0 in /usr/local/lib/python3.10/dist-packages (from matplotlib) (8.4.0)\n",
            "Requirement already satisfied: pyparsing>=2.3.1 in /usr/local/lib/python3.10/dist-packages (from matplotlib) (3.1.0)\n",
            "Requirement already satisfied: python-dateutil>=2.7 in /usr/local/lib/python3.10/dist-packages (from matplotlib) (2.8.2)\n",
            "Requirement already satisfied: six>=1.5 in /usr/local/lib/python3.10/dist-packages (from python-dateutil>=2.7->matplotlib) (1.16.0)\n"
          ]
        }
      ]
    },
    {
      "cell_type": "code",
      "source": [
        "import openpyxl\n",
        "from openpyxl.styles import Font\n",
        "import matplotlib.pyplot as plt\n",
        "import smtplib\n",
        "from email.mime.text import MIMEText\n",
        "from email.mime.multipart import MIMEMultipart\n",
        "\n",
        "def gerar_relatorio_mensal(planilha_entrada, planilha_saida):\n",
        "    # Carrega a planilha de entrada\n",
        "    wb = openpyxl.load_workbook(planilha_entrada)\n",
        "    sheet = wb.active\n",
        "\n",
        "    # Cria a planilha de saída\n",
        "    wb_saida = openpyxl.Workbook()\n",
        "    sheet_saida = wb_saida.active\n",
        "\n",
        "    # Copia os cabeçalhos da planilha de entrada para a planilha de saída\n",
        "    for col_num, cell in enumerate(sheet[1], 1):\n",
        "        sheet_saida.cell(row=1, column=col_num).value = cell.value\n",
        "        sheet_saida.cell(row=1, column=col_num).font = Font(bold=True)\n",
        "\n",
        "    # Percorre as linhas da planilha de entrada e realiza cálculos\n",
        "    total_vendido_por_produto = {}\n",
        "    for row_num, row in enumerate(sheet.iter_rows(min_row=2), 2):\n",
        "        # Copia os dados da planilha de entrada para a planilha de saída\n",
        "        for col_num, cell in enumerate(row, 1):\n",
        "            sheet_saida.cell(row=row_num, column=col_num).value = cell.value\n",
        "\n",
        "        # Realiza cálculos e adiciona novas informações na planilha de saída\n",
        "        quantidade_vendida = row[2].value\n",
        "        valor_unitario = row[3].value\n",
        "        total_vendido = quantidade_vendida * valor_unitario\n",
        "\n",
        "        sheet_saida.cell(row=row_num, column=5).value = total_vendido\n",
        "\n",
        "        # Atualiza o total vendido por produto\n",
        "        produto = row[1].value\n",
        "        if produto in total_vendido_por_produto:\n",
        "            total_vendido_por_produto[produto] += total_vendido\n",
        "        else:\n",
        "            total_vendido_por_produto[produto] = total_vendido\n",
        "\n",
        "    # Salva a planilha de saída\n",
        "    wb_saida.save(planilha_saida)\n",
        "\n",
        "    # Gera gráfico de vendas por produto\n",
        "    produtos = list(total_vendido_por_produto.keys())\n",
        "    valores = list(total_vendido_por_produto.values())\n",
        "\n",
        "    plt.bar(produtos, valores)\n",
        "    plt.xlabel('Produtos')\n",
        "    plt.ylabel('Total Vendido')\n",
        "    plt.title('Vendas por Produto')\n",
        "    plt.xticks(rotation=90)\n",
        "    plt.tight_layout()\n",
        "    plt.savefig('grafico_vendas.png')\n",
        "\n",
        "def enviar_relatorio_por_email(remetente, destinatario, assunto, corpo, anexo):\n",
        "    # Configuração do servidor SMTP\n",
        "    servidor_smtp = 'smtp.example.com'\n",
        "    porta_smtp = 587\n",
        "    usuario_smtp = 'seu_usuario'\n",
        "    senha_smtp = 'sua_senha'\n",
        "\n",
        "    # Criação da mensagem de e-mail\n",
        "    mensagem = MIMEMultipart()\n",
        "    mensagem['From'] = remetente\n",
        "    mensagem['To'] = destinatario\n",
        "    mensagem['Subject'] = assunto\n",
        "\n",
        "    # Adiciona o corpo da mensagem\n",
        "    mensagem.attach(MIMEText(corpo, 'plain'))\n",
        "\n",
        "    # Adiciona o anexo\n",
        "    with open(anexo, 'rb') as arquivo:\n",
        "        anexo_mime = MIMEText(arquivo.read(), 'base64', 'png')\n",
        "        anexo_mime.add_header('Content-Disposition', 'attachment', filename=anexo)\n",
        "        mensagem.attach(anexo_mime)\n",
        "\n",
        "    # Envia o e-mail\n",
        "    with smtplib.SMTP(servidor_smtp, porta_smtp) as servidor:\n",
        "        servidor.starttls()\n",
        "        servidor.login(usuario_smtp, senha_smtp)\n",
        "        servidor.send_message(mensagem)\n",
        "\n",
        "    print('E-mail enviado com sucesso!')\n",
        "\n",
        "# Exemplo de uso\n",
        "planilha_entrada = 'dados_vendas.xlsx'\n",
        "planilha_saida = 'relatorio_mensal.xlsx'\n",
        "grafico_vendas = 'grafico_vendas.png'\n",
        "\n",
        "gerar_relatorio_mensal(planilha_entrada, planilha_saida)\n",
        "enviar_relatorio_por_email('remetente@example.com', 'destinatario@example.com', 'Relatório Mensal de Vendas', 'Segue o relatório mensal de vendas.', grafico_vendas)\n"
      ],
      "metadata": {
        "id": "JJtjpdlj9tpm"
      },
      "execution_count": null,
      "outputs": []
    },
    {
      "cell_type": "code",
      "source": [],
      "metadata": {
        "id": "Le6J___29t4K"
      },
      "execution_count": null,
      "outputs": []
    },
    {
      "cell_type": "code",
      "source": [],
      "metadata": {
        "id": "mrBvvozN9t8J"
      },
      "execution_count": null,
      "outputs": []
    },
    {
      "cell_type": "code",
      "source": [],
      "metadata": {
        "id": "Hct5LIh59t-f"
      },
      "execution_count": null,
      "outputs": []
    },
    {
      "cell_type": "code",
      "source": [],
      "metadata": {
        "id": "_sobnXkz9uA0"
      },
      "execution_count": null,
      "outputs": []
    },
    {
      "cell_type": "code",
      "source": [],
      "metadata": {
        "id": "-6jYLvOX9uEl"
      },
      "execution_count": null,
      "outputs": []
    }
  ]
}