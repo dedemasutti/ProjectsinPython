{
  "nbformat": 4,
  "nbformat_minor": 0,
  "metadata": {
    "colab": {
      "name": "Instagram bot python ",
      "provenance": [],
      "collapsed_sections": [],
      "authorship_tag": "ABX9TyOiF7YRm/dWNz1SMvrFLFP9",
      "include_colab_link": true
    },
    "kernelspec": {
      "name": "python3",
      "display_name": "Python 3"
    },
    "language_info": {
      "name": "python"
    }
  },
  "cells": [
    {
      "cell_type": "markdown",
      "metadata": {
        "id": "view-in-github",
        "colab_type": "text"
      },
      "source": [
        "<a href=\"https://colab.research.google.com/github/dedemasutti/ProjectsinPython/blob/master/Instagram_bot_python.ipynb\" target=\"_parent\"><img src=\"https://colab.research.google.com/assets/colab-badge.svg\" alt=\"Open In Colab\"/></a>"
      ]
    },
    {
      "cell_type": "code",
      "execution_count": null,
      "metadata": {
        "id": "dH0kG_rJao5U"
      },
      "outputs": [],
      "source": [
        "#imports\n",
        "from instapy import InstaPy\n",
        "from instapy import smart_run\n",
        "import schedule\n",
        "import time\n",
        "\n",
        "#Carregue o seu nome de usuário e a senha\n",
        "my_username = 'Andre.07'\n",
        "my_password = '12345678910'\n",
        "\n",
        "#Criamos uma variável chamada insta_job que contem uma nova atribuição com o seu perfil do Instagram\n",
        "# O parametro headless_browser pode ser útil para não deixar o PC muito lento, então, o navegador iniciará no modo invisível\n",
        "\n",
        "def insta_job():\n",
        "session = InstaPy(username = my_username, \n",
        "                  password = my_password,\n",
        "                  headless_browser = False)\n",
        "\n",
        "# Configurações gerais e fluxo das atividades\n",
        "  with smart_run(session):\n",
        "    session.set_relationship_bounds(enable = True,\n",
        "                                    delimit_by_numbers = True,\n",
        "                                    max_followers = 2000,\n",
        "                                    min_followers = 100,\n",
        "                                    min_following = 100)\n",
        "    session.set_do_follow(True, percentage = 100)\n",
        "    session.set_dont_like(['ford','general motors','volkswagen'])\n",
        "    session.set_like_by_tags(['Ferrari','Maserati','Alfa Romeo]', amount = 20)\n",
        "    session.set_by_location(['213088533/rio-de-janeiro-rio-de-janeiro', amount = 30])\n",
        "\n",
        "# Coloquei num arquivo .txt os nomes das targets  para busca            \n",
        "target_users = session.target_list('targets.txt')\n",
        "session.follow_by_list(['Ferrari','Maserati','nvidia'], times = 1, sleep_delay = 500)\n",
        "\n",
        "# Definimos o intervalo de horario que o bot irá funcionar\n",
        "schedule.every().day.at(\"8:00\").do(insta_job)\n",
        "schedule.every().day.at(\"17:00\").do(insta_job)\n",
        "\n",
        "#\n",
        "while True:\n",
        "    schedule.run_panding()\n",
        "    time.sleep(9)"
      ]
    }
  ]
}