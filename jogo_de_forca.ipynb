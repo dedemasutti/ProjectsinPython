{
  "nbformat": 4,
  "nbformat_minor": 0,
  "metadata": {
    "colab": {
      "name": "jogo_de_forca.ipynb",
      "provenance": [],
      "collapsed_sections": [],
      "authorship_tag": "ABX9TyOZGmiz9ttxjbZxxZugQhOo",
      "include_colab_link": true
    },
    "kernelspec": {
      "name": "python3",
      "display_name": "Python 3"
    },
    "language_info": {
      "name": "python"
    }
  },
  "cells": [
    {
      "cell_type": "markdown",
      "metadata": {
        "id": "view-in-github",
        "colab_type": "text"
      },
      "source": [
        "<a href=\"https://colab.research.google.com/github/dedemasutti/ProjectsinPython/blob/master/jogo_de_forca.ipynb\" target=\"_parent\"><img src=\"https://colab.research.google.com/assets/colab-badge.svg\" alt=\"Open In Colab\"/></a>"
      ]
    },
    {
      "cell_type": "markdown",
      "source": [
        ""
      ],
      "metadata": {
        "id": "dNR0HK7he-Wb"
      }
    },
    {
      "cell_type": "markdown",
      "source": [
        "JOGO DE FORCA\n"
      ],
      "metadata": {
        "id": "9buZJv2kmZFM"
      }
    },
    {
      "cell_type": "code",
      "source": [
        "# importamos a biblioteca random\n",
        "#criamos a variavel de introdução ao jogo\n",
        "import random\n",
        "\n",
        "def iniciar_jogo():\n",
        "    print(\"*********************************\")\n",
        "    print(\"***Bem vindo ao jogo da Forca!***\")\n",
        "    print(\"*********************************\")\n",
        "\n",
        "\n",
        "# definimos uma variavel que indicam os parametros do jogo\n",
        "\n",
        "    \n",
        "    palavra_secreta = \"futebol\"\n",
        "    letras_acertadas = [\"_\",\"_\",\"_\",\"_\",\"_\",\"_\",\"_\"]\n",
        "\n",
        "    enforcou = False\n",
        "    acertou = False\n",
        "    erros = 0\n",
        "    print(letras_acertadas)\n",
        "\n",
        "# definimos um loop while com duas condições. Enquanto não acertou e não enforcou, o jogo continua.\n",
        "    while (not acertou and not enforcou):\n",
        "\n",
        "        chute = input(\"Qual letra? \")\n",
        "        chute = chute.strip()   # o método strip() é usado para remover os caracteres iniciais e finais(esq e dir) mencionados no argumento\n",
        "\n",
        "#criamos a variavel index que no final do for adiciona + 1  na iteração.\n",
        "# definimos um loop for para cada letra na palavra secreta o loop passe para uma outra letra até acertar.\n",
        "#Usamos o método .upper() para aceitar letras maiusculas tanto quanto minusculas\n",
        "#No print, utilizamos interpolação de strings para deixarmos o código mais limpo\n",
        "        \n",
        "       \n",
        "        if (chute in palavra_secreta):\n",
        "            index = 0\n",
        "            for letra in palavra_secreta:\n",
        "                if (chute == letra):\n",
        "                    letras_acertadas[index] = letra\n",
        "                index += 1\n",
        "        else:\n",
        "            erros += 1\n",
        "\n",
        "        enforcou = erros == 6\n",
        " #para atualizarmos a variavel acertou para conferirmos se o caracter \"_\" existe ou não em letras_acertadas\n",
        "  acertou = \"_\" not in letras_acertadas  \n",
        "  print(letras_acertadas)\n",
        "\n",
        "# Colocamos esse if é para imprimir se o jogador ganhou ou perdeu\n",
        "      if(acertou):\n",
        "          print(\"Você ganhou!!\")\n",
        "      else:\n",
        "          print(\"Você perdeu!!\")  \n",
        "\n",
        "          print(\"Fim do jogo\")\n",
        "\n",
        "if(__name__ == '__main__'):\n",
        "    jogar()"
      ],
      "metadata": {
        "id": "TQeIPdPbmn9t"
      },
      "execution_count": null,
      "outputs": []
    },
    {
      "cell_type": "code",
      "source": [
        ""
      ],
      "metadata": {
        "id": "5oC3DVwQ9bev"
      },
      "execution_count": null,
      "outputs": []
    }
  ]
}